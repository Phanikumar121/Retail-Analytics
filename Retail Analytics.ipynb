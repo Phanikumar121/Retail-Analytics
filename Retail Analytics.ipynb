{
 "cells": [
  {
   "cell_type": "code",
   "execution_count": 113,
   "metadata": {},
   "outputs": [],
   "source": [
    "import pandas as pd\n",
    "import numpy as np\n",
    "import matplotlib as mp\n",
    "from matplotlib import pyplot as plt\n",
    "%matplotlib inline \n",
    "import seaborn as sns"
   ]
  },
  {
   "cell_type": "code",
   "execution_count": 114,
   "metadata": {},
   "outputs": [],
   "source": [
    "#Reading the data\n",
    "Customer = pd.read_csv('Customer.csv')\n",
    "Transactions = pd.read_csv('Transactions.csv')\n",
    "prod_cat_info = pd.read_csv('prod_cat_info.csv')"
   ]
  },
  {
   "cell_type": "code",
   "execution_count": 115,
   "metadata": {},
   "outputs": [],
   "source": [
    "#1)Merging the datasets\n",
    "sample = pd.merge(Transactions,Customer,how='left',left_on = 'cust_id',right_on = 'customer_Id')\n",
    "Customer_Final = pd.merge(sample,prod_cat_info,how='left',left_on = 'prod_cat_code'\n",
    "                          ,right_on = 'prod_cat_code')\n",
    "Customer_Final.drop('customer_Id',axis = 1,inplace = True)"
   ]
  },
  {
   "cell_type": "code",
   "execution_count": 116,
   "metadata": {},
   "outputs": [
    {
     "name": "stdout",
     "output_type": "stream",
     "text": [
      "<class 'pandas.core.frame.DataFrame'>\n",
      "Int64Index: 99293 entries, 0 to 99292\n",
      "Data columns (total 16 columns):\n",
      "transaction_id       99293 non-null int64\n",
      "cust_id              99293 non-null int64\n",
      "tran_date            99293 non-null object\n",
      "prod_subcat_code     99293 non-null int64\n",
      "prod_cat_code        99293 non-null int64\n",
      "Qty                  99293 non-null int64\n",
      "Rate                 99293 non-null int64\n",
      "Tax                  99293 non-null float64\n",
      "total_amt            99293 non-null float64\n",
      "Store_type           99293 non-null object\n",
      "DOB                  99293 non-null object\n",
      "Gender               99253 non-null object\n",
      "city_code            99257 non-null float64\n",
      "prod_cat             99293 non-null object\n",
      "prod_sub_cat_code    99293 non-null int64\n",
      "prod_subcat          99293 non-null object\n",
      "dtypes: float64(3), int64(7), object(6)\n",
      "memory usage: 12.9+ MB\n"
     ]
    }
   ],
   "source": [
    "#2a)\n",
    "Customer_Final.info()"
   ]
  },
  {
   "cell_type": "code",
   "execution_count": 117,
   "metadata": {},
   "outputs": [
    {
     "data": {
      "text/html": [
       "<div>\n",
       "<style scoped>\n",
       "    .dataframe tbody tr th:only-of-type {\n",
       "        vertical-align: middle;\n",
       "    }\n",
       "\n",
       "    .dataframe tbody tr th {\n",
       "        vertical-align: top;\n",
       "    }\n",
       "\n",
       "    .dataframe thead th {\n",
       "        text-align: right;\n",
       "    }\n",
       "</style>\n",
       "<table border=\"1\" class=\"dataframe\">\n",
       "  <thead>\n",
       "    <tr style=\"text-align: right;\">\n",
       "      <th></th>\n",
       "      <th>transaction_id</th>\n",
       "      <th>cust_id</th>\n",
       "      <th>tran_date</th>\n",
       "      <th>prod_subcat_code</th>\n",
       "      <th>prod_cat_code</th>\n",
       "      <th>Qty</th>\n",
       "      <th>Rate</th>\n",
       "      <th>Tax</th>\n",
       "      <th>total_amt</th>\n",
       "      <th>Store_type</th>\n",
       "      <th>DOB</th>\n",
       "      <th>Gender</th>\n",
       "      <th>city_code</th>\n",
       "      <th>prod_cat</th>\n",
       "      <th>prod_sub_cat_code</th>\n",
       "      <th>prod_subcat</th>\n",
       "    </tr>\n",
       "  </thead>\n",
       "  <tbody>\n",
       "    <tr>\n",
       "      <th>0</th>\n",
       "      <td>80712190438</td>\n",
       "      <td>270351</td>\n",
       "      <td>28-02-2014</td>\n",
       "      <td>1</td>\n",
       "      <td>1</td>\n",
       "      <td>-5</td>\n",
       "      <td>-772</td>\n",
       "      <td>405.300</td>\n",
       "      <td>-4265.300</td>\n",
       "      <td>e-Shop</td>\n",
       "      <td>26-09-1981</td>\n",
       "      <td>M</td>\n",
       "      <td>5.0</td>\n",
       "      <td>Clothing</td>\n",
       "      <td>4</td>\n",
       "      <td>Mens</td>\n",
       "    </tr>\n",
       "    <tr>\n",
       "      <th>1</th>\n",
       "      <td>80712190438</td>\n",
       "      <td>270351</td>\n",
       "      <td>28-02-2014</td>\n",
       "      <td>1</td>\n",
       "      <td>1</td>\n",
       "      <td>-5</td>\n",
       "      <td>-772</td>\n",
       "      <td>405.300</td>\n",
       "      <td>-4265.300</td>\n",
       "      <td>e-Shop</td>\n",
       "      <td>26-09-1981</td>\n",
       "      <td>M</td>\n",
       "      <td>5.0</td>\n",
       "      <td>Clothing</td>\n",
       "      <td>1</td>\n",
       "      <td>Women</td>\n",
       "    </tr>\n",
       "    <tr>\n",
       "      <th>2</th>\n",
       "      <td>80712190438</td>\n",
       "      <td>270351</td>\n",
       "      <td>28-02-2014</td>\n",
       "      <td>1</td>\n",
       "      <td>1</td>\n",
       "      <td>-5</td>\n",
       "      <td>-772</td>\n",
       "      <td>405.300</td>\n",
       "      <td>-4265.300</td>\n",
       "      <td>e-Shop</td>\n",
       "      <td>26-09-1981</td>\n",
       "      <td>M</td>\n",
       "      <td>5.0</td>\n",
       "      <td>Clothing</td>\n",
       "      <td>3</td>\n",
       "      <td>Kids</td>\n",
       "    </tr>\n",
       "    <tr>\n",
       "      <th>3</th>\n",
       "      <td>29258453508</td>\n",
       "      <td>270384</td>\n",
       "      <td>27-02-2014</td>\n",
       "      <td>5</td>\n",
       "      <td>3</td>\n",
       "      <td>-5</td>\n",
       "      <td>-1497</td>\n",
       "      <td>785.925</td>\n",
       "      <td>-8270.925</td>\n",
       "      <td>e-Shop</td>\n",
       "      <td>11-05-1973</td>\n",
       "      <td>F</td>\n",
       "      <td>8.0</td>\n",
       "      <td>Electronics</td>\n",
       "      <td>4</td>\n",
       "      <td>Mobiles</td>\n",
       "    </tr>\n",
       "    <tr>\n",
       "      <th>4</th>\n",
       "      <td>29258453508</td>\n",
       "      <td>270384</td>\n",
       "      <td>27-02-2014</td>\n",
       "      <td>5</td>\n",
       "      <td>3</td>\n",
       "      <td>-5</td>\n",
       "      <td>-1497</td>\n",
       "      <td>785.925</td>\n",
       "      <td>-8270.925</td>\n",
       "      <td>e-Shop</td>\n",
       "      <td>11-05-1973</td>\n",
       "      <td>F</td>\n",
       "      <td>8.0</td>\n",
       "      <td>Electronics</td>\n",
       "      <td>5</td>\n",
       "      <td>Computers</td>\n",
       "    </tr>\n",
       "    <tr>\n",
       "      <th>5</th>\n",
       "      <td>29258453508</td>\n",
       "      <td>270384</td>\n",
       "      <td>27-02-2014</td>\n",
       "      <td>5</td>\n",
       "      <td>3</td>\n",
       "      <td>-5</td>\n",
       "      <td>-1497</td>\n",
       "      <td>785.925</td>\n",
       "      <td>-8270.925</td>\n",
       "      <td>e-Shop</td>\n",
       "      <td>11-05-1973</td>\n",
       "      <td>F</td>\n",
       "      <td>8.0</td>\n",
       "      <td>Electronics</td>\n",
       "      <td>8</td>\n",
       "      <td>Personal Appliances</td>\n",
       "    </tr>\n",
       "    <tr>\n",
       "      <th>6</th>\n",
       "      <td>29258453508</td>\n",
       "      <td>270384</td>\n",
       "      <td>27-02-2014</td>\n",
       "      <td>5</td>\n",
       "      <td>3</td>\n",
       "      <td>-5</td>\n",
       "      <td>-1497</td>\n",
       "      <td>785.925</td>\n",
       "      <td>-8270.925</td>\n",
       "      <td>e-Shop</td>\n",
       "      <td>11-05-1973</td>\n",
       "      <td>F</td>\n",
       "      <td>8.0</td>\n",
       "      <td>Electronics</td>\n",
       "      <td>9</td>\n",
       "      <td>Cameras</td>\n",
       "    </tr>\n",
       "    <tr>\n",
       "      <th>7</th>\n",
       "      <td>29258453508</td>\n",
       "      <td>270384</td>\n",
       "      <td>27-02-2014</td>\n",
       "      <td>5</td>\n",
       "      <td>3</td>\n",
       "      <td>-5</td>\n",
       "      <td>-1497</td>\n",
       "      <td>785.925</td>\n",
       "      <td>-8270.925</td>\n",
       "      <td>e-Shop</td>\n",
       "      <td>11-05-1973</td>\n",
       "      <td>F</td>\n",
       "      <td>8.0</td>\n",
       "      <td>Electronics</td>\n",
       "      <td>10</td>\n",
       "      <td>Audio and video</td>\n",
       "    </tr>\n",
       "    <tr>\n",
       "      <th>8</th>\n",
       "      <td>51750724947</td>\n",
       "      <td>273420</td>\n",
       "      <td>24-02-2014</td>\n",
       "      <td>6</td>\n",
       "      <td>5</td>\n",
       "      <td>-2</td>\n",
       "      <td>-791</td>\n",
       "      <td>166.110</td>\n",
       "      <td>-1748.110</td>\n",
       "      <td>TeleShop</td>\n",
       "      <td>27-07-1992</td>\n",
       "      <td>M</td>\n",
       "      <td>8.0</td>\n",
       "      <td>Books</td>\n",
       "      <td>7</td>\n",
       "      <td>Fiction</td>\n",
       "    </tr>\n",
       "    <tr>\n",
       "      <th>9</th>\n",
       "      <td>51750724947</td>\n",
       "      <td>273420</td>\n",
       "      <td>24-02-2014</td>\n",
       "      <td>6</td>\n",
       "      <td>5</td>\n",
       "      <td>-2</td>\n",
       "      <td>-791</td>\n",
       "      <td>166.110</td>\n",
       "      <td>-1748.110</td>\n",
       "      <td>TeleShop</td>\n",
       "      <td>27-07-1992</td>\n",
       "      <td>M</td>\n",
       "      <td>8.0</td>\n",
       "      <td>Books</td>\n",
       "      <td>12</td>\n",
       "      <td>Academic</td>\n",
       "    </tr>\n",
       "  </tbody>\n",
       "</table>\n",
       "</div>"
      ],
      "text/plain": [
       "   transaction_id  cust_id   tran_date  prod_subcat_code  prod_cat_code  Qty  \\\n",
       "0     80712190438   270351  28-02-2014                 1              1   -5   \n",
       "1     80712190438   270351  28-02-2014                 1              1   -5   \n",
       "2     80712190438   270351  28-02-2014                 1              1   -5   \n",
       "3     29258453508   270384  27-02-2014                 5              3   -5   \n",
       "4     29258453508   270384  27-02-2014                 5              3   -5   \n",
       "5     29258453508   270384  27-02-2014                 5              3   -5   \n",
       "6     29258453508   270384  27-02-2014                 5              3   -5   \n",
       "7     29258453508   270384  27-02-2014                 5              3   -5   \n",
       "8     51750724947   273420  24-02-2014                 6              5   -2   \n",
       "9     51750724947   273420  24-02-2014                 6              5   -2   \n",
       "\n",
       "   Rate      Tax  total_amt Store_type         DOB Gender  city_code  \\\n",
       "0  -772  405.300  -4265.300     e-Shop  26-09-1981      M        5.0   \n",
       "1  -772  405.300  -4265.300     e-Shop  26-09-1981      M        5.0   \n",
       "2  -772  405.300  -4265.300     e-Shop  26-09-1981      M        5.0   \n",
       "3 -1497  785.925  -8270.925     e-Shop  11-05-1973      F        8.0   \n",
       "4 -1497  785.925  -8270.925     e-Shop  11-05-1973      F        8.0   \n",
       "5 -1497  785.925  -8270.925     e-Shop  11-05-1973      F        8.0   \n",
       "6 -1497  785.925  -8270.925     e-Shop  11-05-1973      F        8.0   \n",
       "7 -1497  785.925  -8270.925     e-Shop  11-05-1973      F        8.0   \n",
       "8  -791  166.110  -1748.110   TeleShop  27-07-1992      M        8.0   \n",
       "9  -791  166.110  -1748.110   TeleShop  27-07-1992      M        8.0   \n",
       "\n",
       "      prod_cat  prod_sub_cat_code          prod_subcat  \n",
       "0     Clothing                  4                 Mens  \n",
       "1     Clothing                  1                Women  \n",
       "2     Clothing                  3                 Kids  \n",
       "3  Electronics                  4              Mobiles  \n",
       "4  Electronics                  5            Computers  \n",
       "5  Electronics                  8  Personal Appliances  \n",
       "6  Electronics                  9              Cameras  \n",
       "7  Electronics                 10      Audio and video  \n",
       "8        Books                  7              Fiction  \n",
       "9        Books                 12             Academic  "
      ]
     },
     "execution_count": 117,
     "metadata": {},
     "output_type": "execute_result"
    }
   ],
   "source": [
    "#2b)\n",
    "Customer_Final.head(10)"
   ]
  },
  {
   "cell_type": "code",
   "execution_count": 118,
   "metadata": {},
   "outputs": [
    {
     "data": {
      "text/html": [
       "<div>\n",
       "<style scoped>\n",
       "    .dataframe tbody tr th:only-of-type {\n",
       "        vertical-align: middle;\n",
       "    }\n",
       "\n",
       "    .dataframe tbody tr th {\n",
       "        vertical-align: top;\n",
       "    }\n",
       "\n",
       "    .dataframe thead th {\n",
       "        text-align: right;\n",
       "    }\n",
       "</style>\n",
       "<table border=\"1\" class=\"dataframe\">\n",
       "  <thead>\n",
       "    <tr style=\"text-align: right;\">\n",
       "      <th></th>\n",
       "      <th>transaction_id</th>\n",
       "      <th>cust_id</th>\n",
       "      <th>tran_date</th>\n",
       "      <th>prod_subcat_code</th>\n",
       "      <th>prod_cat_code</th>\n",
       "      <th>Qty</th>\n",
       "      <th>Rate</th>\n",
       "      <th>Tax</th>\n",
       "      <th>total_amt</th>\n",
       "      <th>Store_type</th>\n",
       "      <th>DOB</th>\n",
       "      <th>Gender</th>\n",
       "      <th>city_code</th>\n",
       "      <th>prod_cat</th>\n",
       "      <th>prod_sub_cat_code</th>\n",
       "      <th>prod_subcat</th>\n",
       "    </tr>\n",
       "  </thead>\n",
       "  <tbody>\n",
       "    <tr>\n",
       "      <th>99283</th>\n",
       "      <td>72870271171</td>\n",
       "      <td>270911</td>\n",
       "      <td>25-01-2011</td>\n",
       "      <td>11</td>\n",
       "      <td>5</td>\n",
       "      <td>3</td>\n",
       "      <td>1142</td>\n",
       "      <td>359.730</td>\n",
       "      <td>3785.730</td>\n",
       "      <td>TeleShop</td>\n",
       "      <td>22-05-1970</td>\n",
       "      <td>M</td>\n",
       "      <td>2.0</td>\n",
       "      <td>Books</td>\n",
       "      <td>10</td>\n",
       "      <td>Non-Fiction</td>\n",
       "    </tr>\n",
       "    <tr>\n",
       "      <th>99284</th>\n",
       "      <td>72870271171</td>\n",
       "      <td>270911</td>\n",
       "      <td>25-01-2011</td>\n",
       "      <td>11</td>\n",
       "      <td>5</td>\n",
       "      <td>3</td>\n",
       "      <td>1142</td>\n",
       "      <td>359.730</td>\n",
       "      <td>3785.730</td>\n",
       "      <td>TeleShop</td>\n",
       "      <td>22-05-1970</td>\n",
       "      <td>M</td>\n",
       "      <td>2.0</td>\n",
       "      <td>Books</td>\n",
       "      <td>11</td>\n",
       "      <td>Children</td>\n",
       "    </tr>\n",
       "    <tr>\n",
       "      <th>99285</th>\n",
       "      <td>72870271171</td>\n",
       "      <td>270911</td>\n",
       "      <td>25-01-2011</td>\n",
       "      <td>11</td>\n",
       "      <td>5</td>\n",
       "      <td>3</td>\n",
       "      <td>1142</td>\n",
       "      <td>359.730</td>\n",
       "      <td>3785.730</td>\n",
       "      <td>TeleShop</td>\n",
       "      <td>22-05-1970</td>\n",
       "      <td>M</td>\n",
       "      <td>2.0</td>\n",
       "      <td>Books</td>\n",
       "      <td>3</td>\n",
       "      <td>Comics</td>\n",
       "    </tr>\n",
       "    <tr>\n",
       "      <th>99286</th>\n",
       "      <td>72870271171</td>\n",
       "      <td>270911</td>\n",
       "      <td>25-01-2011</td>\n",
       "      <td>11</td>\n",
       "      <td>5</td>\n",
       "      <td>3</td>\n",
       "      <td>1142</td>\n",
       "      <td>359.730</td>\n",
       "      <td>3785.730</td>\n",
       "      <td>TeleShop</td>\n",
       "      <td>22-05-1970</td>\n",
       "      <td>M</td>\n",
       "      <td>2.0</td>\n",
       "      <td>Books</td>\n",
       "      <td>6</td>\n",
       "      <td>DIY</td>\n",
       "    </tr>\n",
       "    <tr>\n",
       "      <th>99287</th>\n",
       "      <td>77960931771</td>\n",
       "      <td>271961</td>\n",
       "      <td>25-01-2011</td>\n",
       "      <td>11</td>\n",
       "      <td>5</td>\n",
       "      <td>1</td>\n",
       "      <td>447</td>\n",
       "      <td>46.935</td>\n",
       "      <td>493.935</td>\n",
       "      <td>TeleShop</td>\n",
       "      <td>15-01-1982</td>\n",
       "      <td>M</td>\n",
       "      <td>1.0</td>\n",
       "      <td>Books</td>\n",
       "      <td>7</td>\n",
       "      <td>Fiction</td>\n",
       "    </tr>\n",
       "    <tr>\n",
       "      <th>99288</th>\n",
       "      <td>77960931771</td>\n",
       "      <td>271961</td>\n",
       "      <td>25-01-2011</td>\n",
       "      <td>11</td>\n",
       "      <td>5</td>\n",
       "      <td>1</td>\n",
       "      <td>447</td>\n",
       "      <td>46.935</td>\n",
       "      <td>493.935</td>\n",
       "      <td>TeleShop</td>\n",
       "      <td>15-01-1982</td>\n",
       "      <td>M</td>\n",
       "      <td>1.0</td>\n",
       "      <td>Books</td>\n",
       "      <td>12</td>\n",
       "      <td>Academic</td>\n",
       "    </tr>\n",
       "    <tr>\n",
       "      <th>99289</th>\n",
       "      <td>77960931771</td>\n",
       "      <td>271961</td>\n",
       "      <td>25-01-2011</td>\n",
       "      <td>11</td>\n",
       "      <td>5</td>\n",
       "      <td>1</td>\n",
       "      <td>447</td>\n",
       "      <td>46.935</td>\n",
       "      <td>493.935</td>\n",
       "      <td>TeleShop</td>\n",
       "      <td>15-01-1982</td>\n",
       "      <td>M</td>\n",
       "      <td>1.0</td>\n",
       "      <td>Books</td>\n",
       "      <td>10</td>\n",
       "      <td>Non-Fiction</td>\n",
       "    </tr>\n",
       "    <tr>\n",
       "      <th>99290</th>\n",
       "      <td>77960931771</td>\n",
       "      <td>271961</td>\n",
       "      <td>25-01-2011</td>\n",
       "      <td>11</td>\n",
       "      <td>5</td>\n",
       "      <td>1</td>\n",
       "      <td>447</td>\n",
       "      <td>46.935</td>\n",
       "      <td>493.935</td>\n",
       "      <td>TeleShop</td>\n",
       "      <td>15-01-1982</td>\n",
       "      <td>M</td>\n",
       "      <td>1.0</td>\n",
       "      <td>Books</td>\n",
       "      <td>11</td>\n",
       "      <td>Children</td>\n",
       "    </tr>\n",
       "    <tr>\n",
       "      <th>99291</th>\n",
       "      <td>77960931771</td>\n",
       "      <td>271961</td>\n",
       "      <td>25-01-2011</td>\n",
       "      <td>11</td>\n",
       "      <td>5</td>\n",
       "      <td>1</td>\n",
       "      <td>447</td>\n",
       "      <td>46.935</td>\n",
       "      <td>493.935</td>\n",
       "      <td>TeleShop</td>\n",
       "      <td>15-01-1982</td>\n",
       "      <td>M</td>\n",
       "      <td>1.0</td>\n",
       "      <td>Books</td>\n",
       "      <td>3</td>\n",
       "      <td>Comics</td>\n",
       "    </tr>\n",
       "    <tr>\n",
       "      <th>99292</th>\n",
       "      <td>77960931771</td>\n",
       "      <td>271961</td>\n",
       "      <td>25-01-2011</td>\n",
       "      <td>11</td>\n",
       "      <td>5</td>\n",
       "      <td>1</td>\n",
       "      <td>447</td>\n",
       "      <td>46.935</td>\n",
       "      <td>493.935</td>\n",
       "      <td>TeleShop</td>\n",
       "      <td>15-01-1982</td>\n",
       "      <td>M</td>\n",
       "      <td>1.0</td>\n",
       "      <td>Books</td>\n",
       "      <td>6</td>\n",
       "      <td>DIY</td>\n",
       "    </tr>\n",
       "  </tbody>\n",
       "</table>\n",
       "</div>"
      ],
      "text/plain": [
       "       transaction_id  cust_id   tran_date  prod_subcat_code  prod_cat_code  \\\n",
       "99283     72870271171   270911  25-01-2011                11              5   \n",
       "99284     72870271171   270911  25-01-2011                11              5   \n",
       "99285     72870271171   270911  25-01-2011                11              5   \n",
       "99286     72870271171   270911  25-01-2011                11              5   \n",
       "99287     77960931771   271961  25-01-2011                11              5   \n",
       "99288     77960931771   271961  25-01-2011                11              5   \n",
       "99289     77960931771   271961  25-01-2011                11              5   \n",
       "99290     77960931771   271961  25-01-2011                11              5   \n",
       "99291     77960931771   271961  25-01-2011                11              5   \n",
       "99292     77960931771   271961  25-01-2011                11              5   \n",
       "\n",
       "       Qty  Rate      Tax  total_amt Store_type         DOB Gender  city_code  \\\n",
       "99283    3  1142  359.730   3785.730   TeleShop  22-05-1970      M        2.0   \n",
       "99284    3  1142  359.730   3785.730   TeleShop  22-05-1970      M        2.0   \n",
       "99285    3  1142  359.730   3785.730   TeleShop  22-05-1970      M        2.0   \n",
       "99286    3  1142  359.730   3785.730   TeleShop  22-05-1970      M        2.0   \n",
       "99287    1   447   46.935    493.935   TeleShop  15-01-1982      M        1.0   \n",
       "99288    1   447   46.935    493.935   TeleShop  15-01-1982      M        1.0   \n",
       "99289    1   447   46.935    493.935   TeleShop  15-01-1982      M        1.0   \n",
       "99290    1   447   46.935    493.935   TeleShop  15-01-1982      M        1.0   \n",
       "99291    1   447   46.935    493.935   TeleShop  15-01-1982      M        1.0   \n",
       "99292    1   447   46.935    493.935   TeleShop  15-01-1982      M        1.0   \n",
       "\n",
       "      prod_cat  prod_sub_cat_code  prod_subcat  \n",
       "99283    Books                 10  Non-Fiction  \n",
       "99284    Books                 11     Children  \n",
       "99285    Books                  3       Comics  \n",
       "99286    Books                  6          DIY  \n",
       "99287    Books                  7      Fiction  \n",
       "99288    Books                 12     Academic  \n",
       "99289    Books                 10  Non-Fiction  \n",
       "99290    Books                 11     Children  \n",
       "99291    Books                  3       Comics  \n",
       "99292    Books                  6          DIY  "
      ]
     },
     "execution_count": 118,
     "metadata": {},
     "output_type": "execute_result"
    }
   ],
   "source": [
    "#2b)\n",
    "Customer_Final.tail(10)"
   ]
  },
  {
   "cell_type": "code",
   "execution_count": 119,
   "metadata": {},
   "outputs": [
    {
     "data": {
      "text/html": [
       "<div>\n",
       "<style scoped>\n",
       "    .dataframe tbody tr th:only-of-type {\n",
       "        vertical-align: middle;\n",
       "    }\n",
       "\n",
       "    .dataframe tbody tr th {\n",
       "        vertical-align: top;\n",
       "    }\n",
       "\n",
       "    .dataframe thead th {\n",
       "        text-align: right;\n",
       "    }\n",
       "</style>\n",
       "<table border=\"1\" class=\"dataframe\">\n",
       "  <thead>\n",
       "    <tr style=\"text-align: right;\">\n",
       "      <th></th>\n",
       "      <th>transaction_id</th>\n",
       "      <th>cust_id</th>\n",
       "      <th>prod_subcat_code</th>\n",
       "      <th>prod_cat_code</th>\n",
       "      <th>Qty</th>\n",
       "      <th>Rate</th>\n",
       "      <th>Tax</th>\n",
       "      <th>total_amt</th>\n",
       "      <th>city_code</th>\n",
       "      <th>prod_sub_cat_code</th>\n",
       "    </tr>\n",
       "  </thead>\n",
       "  <tbody>\n",
       "    <tr>\n",
       "      <th>count</th>\n",
       "      <td>9.929300e+04</td>\n",
       "      <td>99293.000000</td>\n",
       "      <td>99293.000000</td>\n",
       "      <td>99293.000000</td>\n",
       "      <td>99293.000000</td>\n",
       "      <td>99293.000000</td>\n",
       "      <td>99293.000000</td>\n",
       "      <td>99293.000000</td>\n",
       "      <td>99257.000000</td>\n",
       "      <td>99293.000000</td>\n",
       "    </tr>\n",
       "    <tr>\n",
       "      <th>mean</th>\n",
       "      <td>5.007320e+10</td>\n",
       "      <td>271030.010635</td>\n",
       "      <td>6.796894</td>\n",
       "      <td>4.003243</td>\n",
       "      <td>2.438017</td>\n",
       "      <td>637.919884</td>\n",
       "      <td>248.873736</td>\n",
       "      <td>2114.616420</td>\n",
       "      <td>5.467221</td>\n",
       "      <td>6.806985</td>\n",
       "    </tr>\n",
       "    <tr>\n",
       "      <th>std</th>\n",
       "      <td>2.899361e+10</td>\n",
       "      <td>2429.333624</td>\n",
       "      <td>3.609439</td>\n",
       "      <td>1.563991</td>\n",
       "      <td>2.260726</td>\n",
       "      <td>621.576326</td>\n",
       "      <td>187.014422</td>\n",
       "      <td>2502.306768</td>\n",
       "      <td>2.859343</td>\n",
       "      <td>3.615952</td>\n",
       "    </tr>\n",
       "    <tr>\n",
       "      <th>min</th>\n",
       "      <td>3.268991e+06</td>\n",
       "      <td>266783.000000</td>\n",
       "      <td>1.000000</td>\n",
       "      <td>1.000000</td>\n",
       "      <td>-5.000000</td>\n",
       "      <td>-1499.000000</td>\n",
       "      <td>7.350000</td>\n",
       "      <td>-8270.925000</td>\n",
       "      <td>1.000000</td>\n",
       "      <td>1.000000</td>\n",
       "    </tr>\n",
       "    <tr>\n",
       "      <th>25%</th>\n",
       "      <td>2.492150e+10</td>\n",
       "      <td>268956.000000</td>\n",
       "      <td>4.000000</td>\n",
       "      <td>3.000000</td>\n",
       "      <td>1.000000</td>\n",
       "      <td>313.000000</td>\n",
       "      <td>98.280000</td>\n",
       "      <td>762.450000</td>\n",
       "      <td>3.000000</td>\n",
       "      <td>4.000000</td>\n",
       "    </tr>\n",
       "    <tr>\n",
       "      <th>50%</th>\n",
       "      <td>5.011083e+10</td>\n",
       "      <td>270982.000000</td>\n",
       "      <td>7.000000</td>\n",
       "      <td>5.000000</td>\n",
       "      <td>3.000000</td>\n",
       "      <td>713.000000</td>\n",
       "      <td>199.920000</td>\n",
       "      <td>1761.370000</td>\n",
       "      <td>5.000000</td>\n",
       "      <td>7.000000</td>\n",
       "    </tr>\n",
       "    <tr>\n",
       "      <th>75%</th>\n",
       "      <td>7.528121e+10</td>\n",
       "      <td>273120.000000</td>\n",
       "      <td>10.000000</td>\n",
       "      <td>5.000000</td>\n",
       "      <td>4.000000</td>\n",
       "      <td>1109.000000</td>\n",
       "      <td>366.975000</td>\n",
       "      <td>3585.725000</td>\n",
       "      <td>8.000000</td>\n",
       "      <td>10.000000</td>\n",
       "    </tr>\n",
       "    <tr>\n",
       "      <th>max</th>\n",
       "      <td>9.998755e+10</td>\n",
       "      <td>275265.000000</td>\n",
       "      <td>12.000000</td>\n",
       "      <td>6.000000</td>\n",
       "      <td>5.000000</td>\n",
       "      <td>1500.000000</td>\n",
       "      <td>787.500000</td>\n",
       "      <td>8287.500000</td>\n",
       "      <td>10.000000</td>\n",
       "      <td>12.000000</td>\n",
       "    </tr>\n",
       "  </tbody>\n",
       "</table>\n",
       "</div>"
      ],
      "text/plain": [
       "       transaction_id        cust_id  prod_subcat_code  prod_cat_code  \\\n",
       "count    9.929300e+04   99293.000000      99293.000000   99293.000000   \n",
       "mean     5.007320e+10  271030.010635          6.796894       4.003243   \n",
       "std      2.899361e+10    2429.333624          3.609439       1.563991   \n",
       "min      3.268991e+06  266783.000000          1.000000       1.000000   \n",
       "25%      2.492150e+10  268956.000000          4.000000       3.000000   \n",
       "50%      5.011083e+10  270982.000000          7.000000       5.000000   \n",
       "75%      7.528121e+10  273120.000000         10.000000       5.000000   \n",
       "max      9.998755e+10  275265.000000         12.000000       6.000000   \n",
       "\n",
       "                Qty          Rate           Tax     total_amt     city_code  \\\n",
       "count  99293.000000  99293.000000  99293.000000  99293.000000  99257.000000   \n",
       "mean       2.438017    637.919884    248.873736   2114.616420      5.467221   \n",
       "std        2.260726    621.576326    187.014422   2502.306768      2.859343   \n",
       "min       -5.000000  -1499.000000      7.350000  -8270.925000      1.000000   \n",
       "25%        1.000000    313.000000     98.280000    762.450000      3.000000   \n",
       "50%        3.000000    713.000000    199.920000   1761.370000      5.000000   \n",
       "75%        4.000000   1109.000000    366.975000   3585.725000      8.000000   \n",
       "max        5.000000   1500.000000    787.500000   8287.500000     10.000000   \n",
       "\n",
       "       prod_sub_cat_code  \n",
       "count       99293.000000  \n",
       "mean            6.806985  \n",
       "std             3.615952  \n",
       "min             1.000000  \n",
       "25%             4.000000  \n",
       "50%             7.000000  \n",
       "75%            10.000000  \n",
       "max            12.000000  "
      ]
     },
     "execution_count": 119,
     "metadata": {},
     "output_type": "execute_result"
    }
   ],
   "source": [
    "#2C)\n",
    "Customer_Final.describe()"
   ]
  },
  {
   "cell_type": "code",
   "execution_count": 120,
   "metadata": {},
   "outputs": [],
   "source": [
    "#2d)Frequency table for categorical variables\n",
    "fb_store_type = Customer_Final.groupby(by = 'Store_type')[['Store_type']].count()\n",
    "fb_store_type.columns = ['count_of_store_type']\n",
    "fb_store_type = fb_store_type.reset_index()"
   ]
  },
  {
   "cell_type": "code",
   "execution_count": 121,
   "metadata": {},
   "outputs": [],
   "source": [
    "fb_gender = Customer_Final.groupby(by = 'Gender')[['Gender']].count()\n",
    "fb_gender.columns = ['count_of_gender']\n",
    "fb_gender = fb_gender.reset_index()"
   ]
  },
  {
   "cell_type": "code",
   "execution_count": 122,
   "metadata": {},
   "outputs": [],
   "source": [
    "fb_prod_cat = Customer_Final.groupby(by = 'prod_cat')[['prod_cat']].count()\n",
    "fb_prod_cat.columns = ['count_of_prod_cat']\n",
    "fb_prod_cat = fb_prod_cat.reset_index()"
   ]
  },
  {
   "cell_type": "code",
   "execution_count": 123,
   "metadata": {},
   "outputs": [],
   "source": [
    "fb_prod_subcat = Customer_Final.groupby(by = 'prod_subcat')[['prod_subcat']].count().head()\n",
    "fb_prod_subcat.columns = ['count_of_prod_subcat']\n",
    "fb_prod_subcat = fb_prod_subcat.reset_index()"
   ]
  },
  {
   "cell_type": "code",
   "execution_count": 124,
   "metadata": {},
   "outputs": [
    {
     "data": {
      "image/png": "[encoded data removed]",
      "text/plain": [
       "<Figure size 432x288 with 1 Axes>"
      ]
     },
     "metadata": {
      "needs_background": "light"
     },
     "output_type": "display_data"
    }
   ],
   "source": [
    "#Histogram for continuous vars\n",
    "plt.hist(Customer_Final.total_amt,bins=7,edgecolor=\"black\",density=True)\n",
    "plt.xlabel(\"Total Sales\")\n",
    "plt.title(\"Histogram for Total Sales\")\n",
    "plt.show()"
   ]
  },
  {
   "cell_type": "code",
   "execution_count": 125,
   "metadata": {},
   "outputs": [
    {
     "data": {
      "image/png": "[encoded data removed]",
      "text/plain": [
       "<Figure size 432x288 with 1 Axes>"
      ]
     },
     "metadata": {
      "needs_background": "light"
     },
     "output_type": "display_data"
    }
   ],
   "source": [
    "#Histogram for continuous vars\n",
    "plt.hist(Customer_Final.Rate,bins=7,color = 'Red',edgecolor=\"black\",density=True)\n",
    "plt.xlabel(\"Rate\")\n",
    "plt.title(\"Histogram for Rate\")\n",
    "plt.show()"
   ]
  },
  {
   "cell_type": "code",
   "execution_count": 126,
   "metadata": {},
   "outputs": [
    {
     "data": {
      "image/png": "[encoded data removed]",
      "text/plain": [
       "<Figure size 432x288 with 1 Axes>"
      ]
     },
     "metadata": {
      "needs_background": "light"
     },
     "output_type": "display_data"
    }
   ],
   "source": [
    "#Histogram for continuous vars\n",
    "plt.hist(Customer_Final.Tax,bins=7,color = 'yellow',edgecolor=\"black\",density=True)\n",
    "plt.xlabel(\"Tax\")\n",
    "plt.title(\"Histogram for Tax\")\n",
    "plt.show()"
   ]
  },
  {
   "cell_type": "code",
   "execution_count": 127,
   "metadata": {},
   "outputs": [
    {
     "data": {
      "image/png": "[encoded data removed]",
      "text/plain": [
       "<Figure size 432x288 with 1 Axes>"
      ]
     },
     "metadata": {
      "needs_background": "light"
     },
     "output_type": "display_data"
    }
   ],
   "source": [
    "#Histogram for continuous vars\n",
    "plt.hist(Customer_Final.cust_id,bins=8,color = 'green',edgecolor=\"black\",density=True)\n",
    "plt.xlabel(\"Total cust_id\")\n",
    "plt.title(\"Histogram for cust_id\")\n",
    "plt.show()"
   ]
  },
  {
   "cell_type": "code",
   "execution_count": 128,
   "metadata": {},
   "outputs": [
    {
     "data": {
      "image/png": "[encoded data removed]",
      "text/plain": [
       "<Figure size 432x288 with 1 Axes>"
      ]
     },
     "metadata": {
      "needs_background": "light"
     },
     "output_type": "display_data"
    }
   ],
   "source": [
    "#Histogram for continuous vars\n",
    "plt.hist(Customer_Final.transaction_id,bins=7,color = 'pink',edgecolor=\"black\",density=True)\n",
    "plt.xlabel(\"transaction_id\")\n",
    "plt.title(\"Histogram for transaction_id\")\n",
    "plt.show()"
   ]
  },
  {
   "cell_type": "code",
   "execution_count": 129,
   "metadata": {},
   "outputs": [
    {
     "data": {
      "image/png": "[encoded data removed]",
      "text/plain": [
       "<Figure size 432x288 with 1 Axes>"
      ]
     },
     "metadata": {
      "needs_background": "light"
     },
     "output_type": "display_data"
    }
   ],
   "source": [
    "#Histogram for continuous vars\n",
    "plt.hist(Customer_Final.prod_sub_cat_code,bins=7,color = 'skyblue',edgecolor=\"black\",density=True)\n",
    "plt.xlabel(\"prod_sub_cat_code\")\n",
    "plt.title(\"Histogram for prod_sub_cat_code\")\n",
    "plt.show()"
   ]
  },
  {
   "cell_type": "code",
   "execution_count": 130,
   "metadata": {},
   "outputs": [
    {
     "data": {
      "image/png": "[encoded data removed]",
      "text/plain": [
       "<Figure size 432x288 with 1 Axes>"
      ]
     },
     "metadata": {
      "needs_background": "light"
     },
     "output_type": "display_data"
    }
   ],
   "source": [
    "#Histogram for continuous vars\n",
    "plt.hist(Customer_Final.Qty,bins=7,color = 'maroon',edgecolor=\"black\",density=True)\n",
    "plt.xlabel(\"Qty\")\n",
    "plt.title(\"Histogram for Qty\")\n",
    "plt.show()"
   ]
  },
  {
   "cell_type": "code",
   "execution_count": 131,
   "metadata": {},
   "outputs": [
    {
     "name": "stderr",
     "output_type": "stream",
     "text": [
      "C:\\ProgramData\\Anaconda3\\lib\\site-packages\\numpy\\lib\\histograms.py:824: RuntimeWarning: invalid value encountered in greater_equal\n",
      "  keep = (tmp_a >= first_edge)\n",
      "C:\\ProgramData\\Anaconda3\\lib\\site-packages\\numpy\\lib\\histograms.py:825: RuntimeWarning: invalid value encountered in less_equal\n",
      "  keep &= (tmp_a <= last_edge)\n"
     ]
    },
    {
     "data": {
      "image/png": "[encoded data removed]",
      "text/plain": [
       "<Figure size 432x288 with 1 Axes>"
      ]
     },
     "metadata": {
      "needs_background": "light"
     },
     "output_type": "display_data"
    }
   ],
   "source": [
    "#Histogram for continuous vars\n",
    "plt.hist(Customer_Final.city_code,bins=7,color = 'lightgreen',edgecolor=\"black\",density=True)\n",
    "plt.xlabel(\"city_code\")\n",
    "plt.title(\"Histogram for city_code\")\n",
    "plt.show()"
   ]
  },
  {
   "cell_type": "code",
   "execution_count": 132,
   "metadata": {},
   "outputs": [
    {
     "data": {
      "image/png": "[encoded data removed]",
      "text/plain": [
       "<Figure size 432x288 with 1 Axes>"
      ]
     },
     "metadata": {
      "needs_background": "light"
     },
     "output_type": "display_data"
    }
   ],
   "source": [
    "#Histogram for continuous vars\n",
    "plt.hist(Customer_Final.prod_cat_code,bins=5,color = 'purple',edgecolor=\"black\",density=True)\n",
    "plt.xlabel(\"prod_cat_code\")\n",
    "plt.title(\"Histogram for prod_cat_code\")\n",
    "plt.show()"
   ]
  },
  {
   "cell_type": "code",
   "execution_count": 133,
   "metadata": {},
   "outputs": [
    {
     "data": {
      "image/png": "[encoded data removed]",
      "text/plain": [
       "<Figure size 432x288 with 1 Axes>"
      ]
     },
     "metadata": {
      "needs_background": "light"
     },
     "output_type": "display_data"
    }
   ],
   "source": [
    "#frequency bars for categorical variables\n",
    "plt.bar(x = fb_store_type.Store_type,\n",
    "        height = fb_store_type.count_of_store_type,\n",
    "        color=\"tomato\",                               \n",
    "        edgecolor=\"black\")                             \n",
    "plt.ylabel(\"Counts\")\n",
    "plt.xticks(rotation = 45)\n",
    "plt.show()"
   ]
  },
  {
   "cell_type": "code",
   "execution_count": 134,
   "metadata": {},
   "outputs": [
    {
     "data": {
      "image/png": "[encoded data removed]",
      "text/plain": [
       "<Figure size 432x288 with 1 Axes>"
      ]
     },
     "metadata": {
      "needs_background": "light"
     },
     "output_type": "display_data"
    }
   ],
   "source": [
    "#frequency bars for categorical variables\n",
    "plt.bar(x = fb_prod_subcat.prod_subcat,\n",
    "        height = fb_prod_subcat.count_of_prod_subcat,\n",
    "        color=\"lightgreen\",                               \n",
    "        edgecolor=\"black\")                             \n",
    "plt.ylabel(\"Counts\")\n",
    "plt.show()"
   ]
  },
  {
   "cell_type": "code",
   "execution_count": 135,
   "metadata": {},
   "outputs": [
    {
     "data": {
      "image/png": "[encoded data removed]",
      "text/plain": [
       "<Figure size 432x288 with 1 Axes>"
      ]
     },
     "metadata": {
      "needs_background": "light"
     },
     "output_type": "display_data"
    }
   ],
   "source": [
    "#frequency bars for categorical variables\n",
    "plt.bar(x = fb_gender.Gender,\n",
    "        height = fb_gender.count_of_gender,\n",
    "        color=\"skyblue\",                               \n",
    "        edgecolor=\"black\")                             \n",
    "plt.ylabel(\"Counts\")\n",
    "plt.show()"
   ]
  },
  {
   "cell_type": "code",
   "execution_count": 136,
   "metadata": {},
   "outputs": [
    {
     "data": {
      "image/png": "[encoded data removed]",
      "text/plain": [
       "<Figure size 432x288 with 1 Axes>"
      ]
     },
     "metadata": {
      "needs_background": "light"
     },
     "output_type": "display_data"
    }
   ],
   "source": [
    "#frequency bars for categorical variables\n",
    "plt.bar(x = fb_prod_cat.prod_cat,\n",
    "        height = fb_prod_cat.count_of_prod_cat,\n",
    "        color=\"gold\",                               \n",
    "        edgecolor=\"black\")                             \n",
    "plt.ylabel(\"Counts\")\n",
    "plt.xticks(rotation = 45)\n",
    "plt.show()"
   ]
  },
  {
   "cell_type": "code",
   "execution_count": 137,
   "metadata": {},
   "outputs": [],
   "source": [
    "#4a)calculate time period of merged dataset\n",
    "Customer_Final['tran_date'] = Customer_Final['tran_date'].astype('datetime64[ns]')\n",
    "Customer_Final['DOB'] = Customer_Final['DOB'].astype('datetime64[ns]')"
   ]
  },
  {
   "cell_type": "code",
   "execution_count": 138,
   "metadata": {},
   "outputs": [],
   "source": [
    "start_date = Customer_Final['tran_date'].min()\n",
    "end_date = Customer_Final['tran_date'].max()"
   ]
  },
  {
   "cell_type": "code",
   "execution_count": 139,
   "metadata": {},
   "outputs": [
    {
     "name": "stdout",
     "output_type": "stream",
     "text": [
      "1430 days 00:00:00\n"
     ]
    }
   ],
   "source": [
    "time_period = end_date - start_date\n",
    "print(time_period)"
   ]
  },
  {
   "cell_type": "code",
   "execution_count": 140,
   "metadata": {},
   "outputs": [],
   "source": [
    "#4b)count of transactions where total amount is negative\n",
    "ts = Customer_Final.total_amt\n",
    "q4 = Customer_Final.loc[(ts < 0 ),['total_amt','transaction_id']]\n",
    "q4 = q4.round()\n",
    "q4 = q4.groupby(by = ['transaction_id'])[['transaction_id']].count().add_prefix(\"Count_of_\")"
   ]
  },
  {
   "cell_type": "code",
   "execution_count": 141,
   "metadata": {},
   "outputs": [
    {
     "data": {
      "text/html": [
       "<div>\n",
       "<style scoped>\n",
       "    .dataframe tbody tr th:only-of-type {\n",
       "        vertical-align: middle;\n",
       "    }\n",
       "\n",
       "    .dataframe tbody tr th {\n",
       "        vertical-align: top;\n",
       "    }\n",
       "\n",
       "    .dataframe thead th {\n",
       "        text-align: right;\n",
       "    }\n",
       "</style>\n",
       "<table border=\"1\" class=\"dataframe\">\n",
       "  <thead>\n",
       "    <tr style=\"text-align: right;\">\n",
       "      <th></th>\n",
       "      <th>prod_cat</th>\n",
       "      <th>Count_of_prod_cat</th>\n",
       "    </tr>\n",
       "  </thead>\n",
       "  <tbody>\n",
       "    <tr>\n",
       "      <th>0</th>\n",
       "      <td>Bags</td>\n",
       "      <td>2008</td>\n",
       "    </tr>\n",
       "    <tr>\n",
       "      <th>1</th>\n",
       "      <td>Books</td>\n",
       "      <td>18696</td>\n",
       "    </tr>\n",
       "    <tr>\n",
       "      <th>2</th>\n",
       "      <td>Clothing</td>\n",
       "      <td>4554</td>\n",
       "    </tr>\n",
       "    <tr>\n",
       "      <th>3</th>\n",
       "      <td>Electronics</td>\n",
       "      <td>12850</td>\n",
       "    </tr>\n",
       "    <tr>\n",
       "      <th>4</th>\n",
       "      <td>Footwear</td>\n",
       "      <td>4407</td>\n",
       "    </tr>\n",
       "    <tr>\n",
       "      <th>5</th>\n",
       "      <td>Home and kitchen</td>\n",
       "      <td>8536</td>\n",
       "    </tr>\n",
       "  </tbody>\n",
       "</table>\n",
       "</div>"
      ],
      "text/plain": [
       "           prod_cat  Count_of_prod_cat\n",
       "0              Bags               2008\n",
       "1             Books              18696\n",
       "2          Clothing               4554\n",
       "3       Electronics              12850\n",
       "4          Footwear               4407\n",
       "5  Home and kitchen               8536"
      ]
     },
     "execution_count": 141,
     "metadata": {},
     "output_type": "execute_result"
    }
   ],
   "source": [
    "#5)Which product category is famous among males and females\n",
    "ts = Customer_Final.Gender\n",
    "q5 = Customer_Final.loc[(ts == \"M\"),['Gender','prod_cat']]\n",
    "q5 = q5.groupby(by = ['prod_cat'])[['prod_cat']].count().add_prefix(\"Count_of_\")\n",
    "q5 = q5.reset_index()\n",
    "q5"
   ]
  },
  {
   "cell_type": "code",
   "execution_count": 142,
   "metadata": {},
   "outputs": [
    {
     "data": {
      "text/html": [
       "<div>\n",
       "<style scoped>\n",
       "    .dataframe tbody tr th:only-of-type {\n",
       "        vertical-align: middle;\n",
       "    }\n",
       "\n",
       "    .dataframe tbody tr th {\n",
       "        vertical-align: top;\n",
       "    }\n",
       "\n",
       "    .dataframe thead th {\n",
       "        text-align: right;\n",
       "    }\n",
       "</style>\n",
       "<table border=\"1\" class=\"dataframe\">\n",
       "  <thead>\n",
       "    <tr style=\"text-align: right;\">\n",
       "      <th></th>\n",
       "      <th>prod_cat</th>\n",
       "      <th>Count_of_prod_cat</th>\n",
       "    </tr>\n",
       "  </thead>\n",
       "  <tbody>\n",
       "    <tr>\n",
       "      <th>0</th>\n",
       "      <td>Bags</td>\n",
       "      <td>1988</td>\n",
       "    </tr>\n",
       "    <tr>\n",
       "      <th>1</th>\n",
       "      <td>Books</td>\n",
       "      <td>17694</td>\n",
       "    </tr>\n",
       "    <tr>\n",
       "      <th>2</th>\n",
       "      <td>Clothing</td>\n",
       "      <td>4317</td>\n",
       "    </tr>\n",
       "    <tr>\n",
       "      <th>3</th>\n",
       "      <td>Electronics</td>\n",
       "      <td>11640</td>\n",
       "    </tr>\n",
       "    <tr>\n",
       "      <th>4</th>\n",
       "      <td>Footwear</td>\n",
       "      <td>4587</td>\n",
       "    </tr>\n",
       "    <tr>\n",
       "      <th>5</th>\n",
       "      <td>Home and kitchen</td>\n",
       "      <td>7976</td>\n",
       "    </tr>\n",
       "  </tbody>\n",
       "</table>\n",
       "</div>"
      ],
      "text/plain": [
       "           prod_cat  Count_of_prod_cat\n",
       "0              Bags               1988\n",
       "1             Books              17694\n",
       "2          Clothing               4317\n",
       "3       Electronics              11640\n",
       "4          Footwear               4587\n",
       "5  Home and kitchen               7976"
      ]
     },
     "execution_count": 142,
     "metadata": {},
     "output_type": "execute_result"
    }
   ],
   "source": [
    "ts = Customer_Final.Gender\n",
    "q5_b = Customer_Final.loc[(ts == \"F\"),['Gender','prod_cat']]\n",
    "q5_b = q5_b.groupby(by = ['prod_cat'])[['prod_cat']].count().add_prefix(\"Count_of_\")\n",
    "q5_b = q5_b.reset_index()\n",
    "q5_b\n",
    "#Books is the product category which is famous among males and females"
   ]
  },
  {
   "cell_type": "code",
   "execution_count": 143,
   "metadata": {},
   "outputs": [
    {
     "data": {
      "text/html": [
       "<div>\n",
       "<style scoped>\n",
       "    .dataframe tbody tr th:only-of-type {\n",
       "        vertical-align: middle;\n",
       "    }\n",
       "\n",
       "    .dataframe tbody tr th {\n",
       "        vertical-align: top;\n",
       "    }\n",
       "\n",
       "    .dataframe thead th {\n",
       "        text-align: right;\n",
       "    }\n",
       "</style>\n",
       "<table border=\"1\" class=\"dataframe\">\n",
       "  <thead>\n",
       "    <tr style=\"text-align: right;\">\n",
       "      <th></th>\n",
       "      <th>city_code</th>\n",
       "      <th>Count_of_city_code</th>\n",
       "      <th>%_of_customers</th>\n",
       "    </tr>\n",
       "  </thead>\n",
       "  <tbody>\n",
       "    <tr>\n",
       "      <th>0</th>\n",
       "      <td>1.0</td>\n",
       "      <td>9717</td>\n",
       "      <td>9.789738</td>\n",
       "    </tr>\n",
       "    <tr>\n",
       "      <th>1</th>\n",
       "      <td>2.0</td>\n",
       "      <td>9843</td>\n",
       "      <td>9.916681</td>\n",
       "    </tr>\n",
       "    <tr>\n",
       "      <th>2</th>\n",
       "      <td>3.0</td>\n",
       "      <td>10467</td>\n",
       "      <td>10.545352</td>\n",
       "    </tr>\n",
       "    <tr>\n",
       "      <th>3</th>\n",
       "      <td>4.0</td>\n",
       "      <td>10571</td>\n",
       "      <td>10.650130</td>\n",
       "    </tr>\n",
       "    <tr>\n",
       "      <th>4</th>\n",
       "      <td>5.0</td>\n",
       "      <td>10116</td>\n",
       "      <td>10.191725</td>\n",
       "    </tr>\n",
       "    <tr>\n",
       "      <th>5</th>\n",
       "      <td>6.0</td>\n",
       "      <td>9130</td>\n",
       "      <td>9.198344</td>\n",
       "    </tr>\n",
       "    <tr>\n",
       "      <th>6</th>\n",
       "      <td>7.0</td>\n",
       "      <td>10258</td>\n",
       "      <td>10.334787</td>\n",
       "    </tr>\n",
       "    <tr>\n",
       "      <th>7</th>\n",
       "      <td>8.0</td>\n",
       "      <td>9965</td>\n",
       "      <td>10.039594</td>\n",
       "    </tr>\n",
       "    <tr>\n",
       "      <th>8</th>\n",
       "      <td>9.0</td>\n",
       "      <td>9214</td>\n",
       "      <td>9.282972</td>\n",
       "    </tr>\n",
       "    <tr>\n",
       "      <th>9</th>\n",
       "      <td>10.0</td>\n",
       "      <td>9976</td>\n",
       "      <td>10.050677</td>\n",
       "    </tr>\n",
       "  </tbody>\n",
       "</table>\n",
       "</div>"
      ],
      "text/plain": [
       "   city_code  Count_of_city_code  %_of_customers\n",
       "0        1.0                9717        9.789738\n",
       "1        2.0                9843        9.916681\n",
       "2        3.0               10467       10.545352\n",
       "3        4.0               10571       10.650130\n",
       "4        5.0               10116       10.191725\n",
       "5        6.0                9130        9.198344\n",
       "6        7.0               10258       10.334787\n",
       "7        8.0                9965       10.039594\n",
       "8        9.0                9214        9.282972\n",
       "9       10.0                9976       10.050677"
      ]
     },
     "execution_count": 143,
     "metadata": {},
     "output_type": "execute_result"
    }
   ],
   "source": [
    "#6)Which city code has the maximum no of customers\n",
    "q6 = Customer_Final.groupby(by = ['city_code'])[['city_code']].count().add_prefix(\"Count_of_\")\n",
    "q6 = q6.reset_index()\n",
    "q6['%_of_customers'] = (q6['Count_of_city_code']/q6['Count_of_city_code'].sum())*100\n",
    "q6\n",
    "#City code 4 has the maximum no of customers accounting to 10.65%"
   ]
  },
  {
   "cell_type": "code",
   "execution_count": 144,
   "metadata": {},
   "outputs": [
    {
     "data": {
      "text/html": [
       "<div>\n",
       "<style scoped>\n",
       "    .dataframe tbody tr th:only-of-type {\n",
       "        vertical-align: middle;\n",
       "    }\n",
       "\n",
       "    .dataframe tbody tr th {\n",
       "        vertical-align: top;\n",
       "    }\n",
       "\n",
       "    .dataframe thead th {\n",
       "        text-align: right;\n",
       "    }\n",
       "</style>\n",
       "<table border=\"1\" class=\"dataframe\">\n",
       "  <thead>\n",
       "    <tr style=\"text-align: right;\">\n",
       "      <th></th>\n",
       "      <th>Store_type</th>\n",
       "      <th>Sum_of_total_amt</th>\n",
       "      <th>Count_of_sales</th>\n",
       "    </tr>\n",
       "  </thead>\n",
       "  <tbody>\n",
       "    <tr>\n",
       "      <th>0</th>\n",
       "      <td>Flagship store</td>\n",
       "      <td>41883973.0</td>\n",
       "      <td>19814</td>\n",
       "    </tr>\n",
       "    <tr>\n",
       "      <th>1</th>\n",
       "      <td>MBR</td>\n",
       "      <td>41700330.0</td>\n",
       "      <td>19974</td>\n",
       "    </tr>\n",
       "    <tr>\n",
       "      <th>2</th>\n",
       "      <td>TeleShop</td>\n",
       "      <td>40466557.0</td>\n",
       "      <td>19320</td>\n",
       "    </tr>\n",
       "    <tr>\n",
       "      <th>3</th>\n",
       "      <td>e-Shop</td>\n",
       "      <td>85915748.0</td>\n",
       "      <td>40185</td>\n",
       "    </tr>\n",
       "  </tbody>\n",
       "</table>\n",
       "</div>"
      ],
      "text/plain": [
       "       Store_type  Sum_of_total_amt  Count_of_sales\n",
       "0  Flagship store        41883973.0           19814\n",
       "1             MBR        41700330.0           19974\n",
       "2        TeleShop        40466557.0           19320\n",
       "3          e-Shop        85915748.0           40185"
      ]
     },
     "execution_count": 144,
     "metadata": {},
     "output_type": "execute_result"
    }
   ],
   "source": [
    "#7)Which store type has the maximum sales by value and quantity\n",
    "q7 = Customer_Final.groupby(by = ['Store_type'])[['Store_type']].count().add_prefix(\"Count_of_\")\n",
    "q7_b = Customer_Final.groupby(by = ['Store_type'])[['total_amt']].sum().add_prefix(\"Sum_of_\")\n",
    "q7_b = q7_b.round()\n",
    "q7_b['Count_of_sales'] = q7['Count_of_Store_type']\n",
    "q7_b = q7_b.reset_index()\n",
    "#Flagship store has the highest total amount for sales and MBR has highest sales count\n",
    "q7_b"
   ]
  },
  {
   "cell_type": "code",
   "execution_count": 145,
   "metadata": {},
   "outputs": [
    {
     "data": {
      "text/html": [
       "<div>\n",
       "<style scoped>\n",
       "    .dataframe tbody tr th:only-of-type {\n",
       "        vertical-align: middle;\n",
       "    }\n",
       "\n",
       "    .dataframe tbody tr th {\n",
       "        vertical-align: top;\n",
       "    }\n",
       "\n",
       "    .dataframe thead th {\n",
       "        text-align: right;\n",
       "    }\n",
       "</style>\n",
       "<table border=\"1\" class=\"dataframe\">\n",
       "  <thead>\n",
       "    <tr style=\"text-align: right;\">\n",
       "      <th></th>\n",
       "      <th>prod_cat</th>\n",
       "      <th>Sum_of_total_amt</th>\n",
       "    </tr>\n",
       "  </thead>\n",
       "  <tbody>\n",
       "    <tr>\n",
       "      <th>0</th>\n",
       "      <td>Clothing</td>\n",
       "      <td>3583270.0</td>\n",
       "    </tr>\n",
       "    <tr>\n",
       "      <th>1</th>\n",
       "      <td>Electronics</td>\n",
       "      <td>11075680.0</td>\n",
       "    </tr>\n",
       "  </tbody>\n",
       "</table>\n",
       "</div>"
      ],
      "text/plain": [
       "      prod_cat  Sum_of_total_amt\n",
       "0     Clothing         3583270.0\n",
       "1  Electronics        11075680.0"
      ]
     },
     "execution_count": 145,
     "metadata": {},
     "output_type": "execute_result"
    }
   ],
   "source": [
    "#8)Total sales where store type is flagship stores and product category is clothing and electronics\n",
    "ts = Customer_Final.Store_type\n",
    "ts1 = Customer_Final.prod_cat\n",
    "q8 = Customer_Final.loc[(ts1 == \"Electronics\")|(ts1 == \"Clothing\"),['Store_type','prod_cat','total_amt']]\n",
    "q8_b = q8.loc[(ts == \"Flagship store\"),['Store_type','prod_cat','total_amt']].reset_index()\n",
    "q8_c = q8_b.groupby(by = ['prod_cat'])[['total_amt']].sum().add_prefix(\"Sum_of_\")\n",
    "q8_c = q8_c.round().reset_index()\n",
    "q8_c"
   ]
  },
  {
   "cell_type": "code",
   "execution_count": 146,
   "metadata": {},
   "outputs": [
    {
     "data": {
      "text/html": [
       "<div>\n",
       "<style scoped>\n",
       "    .dataframe tbody tr th:only-of-type {\n",
       "        vertical-align: middle;\n",
       "    }\n",
       "\n",
       "    .dataframe tbody tr th {\n",
       "        vertical-align: top;\n",
       "    }\n",
       "\n",
       "    .dataframe thead th {\n",
       "        text-align: right;\n",
       "    }\n",
       "</style>\n",
       "<table border=\"1\" class=\"dataframe\">\n",
       "  <thead>\n",
       "    <tr style=\"text-align: right;\">\n",
       "      <th></th>\n",
       "      <th></th>\n",
       "      <th>Sum_of_total_amt</th>\n",
       "    </tr>\n",
       "    <tr>\n",
       "      <th>prod_cat</th>\n",
       "      <th>Gender</th>\n",
       "      <th></th>\n",
       "    </tr>\n",
       "  </thead>\n",
       "  <tbody>\n",
       "    <tr>\n",
       "      <th>Electronics</th>\n",
       "      <th>M</th>\n",
       "      <td>28515547.0</td>\n",
       "    </tr>\n",
       "  </tbody>\n",
       "</table>\n",
       "</div>"
      ],
      "text/plain": [
       "                    Sum_of_total_amt\n",
       "prod_cat    Gender                  \n",
       "Electronics M             28515547.0"
      ]
     },
     "execution_count": 146,
     "metadata": {},
     "output_type": "execute_result"
    }
   ],
   "source": [
    "#9)Total sales where product category is lectronics and gender is male\n",
    "ts = Customer_Final.Gender\n",
    "ts1 = Customer_Final.prod_cat\n",
    "q9 = Customer_Final.loc[(ts1 == \"Electronics\")&(ts == \"M\"),['Gender','prod_cat','total_amt']]\n",
    "q9_b = q9.groupby(by = ['prod_cat','Gender'])[['total_amt']].sum().add_prefix(\"Sum_of_\")\n",
    "q9_b = q9_b.round()\n",
    "q9_b"
   ]
  },
  {
   "cell_type": "code",
   "execution_count": 147,
   "metadata": {},
   "outputs": [],
   "source": [
    "#10)Count of transactions where count of transaction is more than 10\n",
    "ts = Customer_Final.total_amt\n",
    "q10 = Customer_Final.loc[(ts >= 0),['transaction_id','total_amt']]\n",
    "q10['total_amt'] = q10['total_amt'].round()\n",
    "q10_b = q10.groupby(by = ['transaction_id'])[['transaction_id']].count().add_prefix(\"Count_of_\")\n",
    "q10_b = q10_b.reset_index()\n",
    "q10_c = q10_b['Count_of_transaction_id'] > 10\n",
    "#no customer has more than 10 transactions"
   ]
  },
  {
   "cell_type": "code",
   "execution_count": 148,
   "metadata": {},
   "outputs": [],
   "source": [
    "#q11)Age calculation\n",
    "now = pd.Timestamp('now')\n",
    "Customer_Final['Age'] = (now - Customer_Final['DOB']).astype('<m8[Y]')"
   ]
  },
  {
   "cell_type": "code",
   "execution_count": 149,
   "metadata": {},
   "outputs": [
    {
     "data": {
      "text/html": [
       "<div>\n",
       "<style scoped>\n",
       "    .dataframe tbody tr th:only-of-type {\n",
       "        vertical-align: middle;\n",
       "    }\n",
       "\n",
       "    .dataframe tbody tr th {\n",
       "        vertical-align: top;\n",
       "    }\n",
       "\n",
       "    .dataframe thead th {\n",
       "        text-align: right;\n",
       "    }\n",
       "</style>\n",
       "<table border=\"1\" class=\"dataframe\">\n",
       "  <thead>\n",
       "    <tr style=\"text-align: right;\">\n",
       "      <th></th>\n",
       "      <th>Age</th>\n",
       "      <th>prod_cat</th>\n",
       "      <th>Sum_of_total_amt</th>\n",
       "    </tr>\n",
       "  </thead>\n",
       "  <tbody>\n",
       "    <tr>\n",
       "      <th>0</th>\n",
       "      <td>27.0</td>\n",
       "      <td>Books</td>\n",
       "      <td>3376878.0</td>\n",
       "    </tr>\n",
       "    <tr>\n",
       "      <th>1</th>\n",
       "      <td>27.0</td>\n",
       "      <td>Electronics</td>\n",
       "      <td>2220243.0</td>\n",
       "    </tr>\n",
       "    <tr>\n",
       "      <th>2</th>\n",
       "      <td>28.0</td>\n",
       "      <td>Books</td>\n",
       "      <td>3103278.0</td>\n",
       "    </tr>\n",
       "    <tr>\n",
       "      <th>3</th>\n",
       "      <td>28.0</td>\n",
       "      <td>Electronics</td>\n",
       "      <td>1939988.0</td>\n",
       "    </tr>\n",
       "    <tr>\n",
       "      <th>4</th>\n",
       "      <td>29.0</td>\n",
       "      <td>Books</td>\n",
       "      <td>2589738.0</td>\n",
       "    </tr>\n",
       "  </tbody>\n",
       "</table>\n",
       "</div>"
      ],
      "text/plain": [
       "    Age     prod_cat  Sum_of_total_amt\n",
       "0  27.0        Books         3376878.0\n",
       "1  27.0  Electronics         2220243.0\n",
       "2  28.0        Books         3103278.0\n",
       "3  28.0  Electronics         1939988.0\n",
       "4  29.0        Books         2589738.0"
      ]
     },
     "execution_count": 149,
     "metadata": {},
     "output_type": "execute_result"
    }
   ],
   "source": [
    "#q11a)Total amount spent on electronics and books product category\n",
    "ts = Customer_Final.Age\n",
    "ts1 = Customer_Final.prod_cat\n",
    "q11 = Customer_Final.loc[(ts >= 25)&(ts <= 35),['Age','total_amt','prod_cat','tran_date']]\n",
    "q11_b = q11.loc[(ts1 == 'Electronics')|(ts1 == 'Books'),['Age','total_amt','prod_cat','tran_date']]\n",
    "q11_c = q11_b.groupby(by = ['Age','prod_cat'])[['total_amt']].sum().add_prefix(\"Sum_of_\")\n",
    "q11_c = q11_c.round().reset_index()\n",
    "q11_c.head()"
   ]
  },
  {
   "cell_type": "code",
   "execution_count": 150,
   "metadata": {},
   "outputs": [],
   "source": [
    "#q11b)Total amount spent by these customers between 1st jan 2014 to 1st march 2014\n",
    "#Extracting year,month and date\n",
    "Customer_Final['Year'] = Customer_Final['tran_date'].dt.year\n",
    "Customer_Final['Month'] = Customer_Final['tran_date'].dt.month\n",
    "Customer_Final['Day'] = Customer_Final['tran_date'].dt.day"
   ]
  },
  {
   "cell_type": "code",
   "execution_count": 151,
   "metadata": {},
   "outputs": [
    {
     "data": {
      "text/html": [
       "<div>\n",
       "<style scoped>\n",
       "    .dataframe tbody tr th:only-of-type {\n",
       "        vertical-align: middle;\n",
       "    }\n",
       "\n",
       "    .dataframe tbody tr th {\n",
       "        vertical-align: top;\n",
       "    }\n",
       "\n",
       "    .dataframe thead th {\n",
       "        text-align: right;\n",
       "    }\n",
       "</style>\n",
       "<table border=\"1\" class=\"dataframe\">\n",
       "  <thead>\n",
       "    <tr style=\"text-align: right;\">\n",
       "      <th></th>\n",
       "      <th></th>\n",
       "      <th></th>\n",
       "      <th>Sum_of_total_amt</th>\n",
       "    </tr>\n",
       "    <tr>\n",
       "      <th>cust_id</th>\n",
       "      <th>prod_cat</th>\n",
       "      <th>Age</th>\n",
       "      <th></th>\n",
       "    </tr>\n",
       "  </thead>\n",
       "  <tbody>\n",
       "    <tr>\n",
       "      <th>266813</th>\n",
       "      <th>Home and kitchen</th>\n",
       "      <th>31.0</th>\n",
       "      <td>4150.0</td>\n",
       "    </tr>\n",
       "    <tr>\n",
       "      <th rowspan=\"2\" valign=\"top\">266841</th>\n",
       "      <th>Books</th>\n",
       "      <th>28.0</th>\n",
       "      <td>15892.0</td>\n",
       "    </tr>\n",
       "    <tr>\n",
       "      <th>Clothing</th>\n",
       "      <th>28.0</th>\n",
       "      <td>15143.0</td>\n",
       "    </tr>\n",
       "    <tr>\n",
       "      <th>266843</th>\n",
       "      <th>Home and kitchen</th>\n",
       "      <th>32.0</th>\n",
       "      <td>20641.0</td>\n",
       "    </tr>\n",
       "    <tr>\n",
       "      <th>266853</th>\n",
       "      <th>Clothing</th>\n",
       "      <th>29.0</th>\n",
       "      <td>7638.0</td>\n",
       "    </tr>\n",
       "  </tbody>\n",
       "</table>\n",
       "</div>"
      ],
      "text/plain": [
       "                               Sum_of_total_amt\n",
       "cust_id prod_cat         Age                   \n",
       "266813  Home and kitchen 31.0            4150.0\n",
       "266841  Books            28.0           15892.0\n",
       "        Clothing         28.0           15143.0\n",
       "266843  Home and kitchen 32.0           20641.0\n",
       "266853  Clothing         29.0            7638.0"
      ]
     },
     "execution_count": 151,
     "metadata": {},
     "output_type": "execute_result"
    }
   ],
   "source": [
    "ts = Customer_Final.Year\n",
    "ts1 = Customer_Final.Month\n",
    "ts2 = Customer_Final.Day\n",
    "ts3 = q12.Age\n",
    "q12 = Customer_Final.loc[(ts >= 2014)&(ts1 >= 1)&(ts2 >= 1),['tran_date','cust_id','prod_cat','total_amt','Age']]\n",
    "q12_1 = q12.loc[(ts3 >= 25)&(ts3 <= 35),['tran_date','cust_id','prod_cat','total_amt','Age']]\n",
    "q12_b = q12_1.groupby(by = ['cust_id','prod_cat','Age'])[['total_amt']].sum().add_prefix(\"Sum_of_\")\n",
    "q12_b  =q12_b.round()\n",
    "q12_b.head()"
   ]
  }
 ],
 "metadata": {
  "kernelspec": {
   "display_name": "Python 3",
   "language": "python",
   "name": "python3"
  },
  "language_info": {
   "codemirror_mode": {
    "name": "ipython",
    "version": 3
   },
   "file_extension": ".py",
   "mimetype": "text/x-python",
   "name": "python",
   "nbconvert_exporter": "python",
   "pygments_lexer": "ipython3",
   "version": "3.7.3"
  }
 },
 "nbformat": 4,
 "nbformat_minor": 2
}
